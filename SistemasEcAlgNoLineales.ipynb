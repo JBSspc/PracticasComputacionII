{
  "nbformat": 4,
  "nbformat_minor": 0,
  "metadata": {
    "colab": {
      "name": "SistemasEcAlgNoLineales.ipynb",
      "provenance": [],
      "collapsed_sections": [],
      "authorship_tag": "ABX9TyPB4jDY0Lap2ULIUcFxcHnE",
      "include_colab_link": true
    },
    "kernelspec": {
      "name": "python3",
      "display_name": "Python 3"
    },
    "language_info": {
      "name": "python"
    }
  },
  "cells": [
    {
      "cell_type": "markdown",
      "metadata": {
        "id": "view-in-github",
        "colab_type": "text"
      },
      "source": [
        "<a href=\"https://colab.research.google.com/github/JBSspc/PracticasComputacionII/blob/main/SistemasEcAlgNoLineales.ipynb\" target=\"_parent\"><img src=\"https://colab.research.google.com/assets/colab-badge.svg\" alt=\"Open In Colab\"/></a>"
      ]
    },
    {
      "cell_type": "markdown",
      "source": [
        "### **Newton-Raphson**"
      ],
      "metadata": {
        "id": "04Ft-eLfTTw4"
      }
    },
    {
      "cell_type": "code",
      "execution_count": null,
      "metadata": {
        "id": "eSeV4SO6TSsa"
      },
      "outputs": [],
      "source": [
        "import numpy as np\n",
        "\n",
        "e = 0.000000001  # Our error\n",
        "\n",
        "\n",
        "def Converge(df, x):\n",
        "    x = round(x, 2)\n",
        "    if df(x) != 0:\n",
        "        return True\n",
        "    return False\n",
        "\n",
        "\n",
        "def newton(f, df, x0):\n",
        "    n = 1\n",
        "    xi = x0\n",
        "    while df(xi) != 0:\n",
        "        xi_1 = xi - f(xi) / df(xi)\n",
        "        if abs(f(xi_1) / df(xi_1)) < e:\n",
        "            break\n",
        "        n += 1\n",
        "        xi = xi_1\n",
        "    return xi\n",
        "\n",
        "\n",
        "if __name__ == \"__main__\":\n",
        "\n",
        "    f = lambda x: 14 * x * np.exp(x-2) - 12 * np.exp(x-2) - 7 * x ** 3 + 20 * x ** 2 - 26 * x + 12\n",
        "\n",
        "    df = lambda x: 14 * x * np.exp(x-2) + 2 * np.exp(x-2) - 21 * x ** 2 + 40 * x - 26\n",
        "\n",
        "    r1 = newton(f, df, 0)\n",
        "    r2 = newton(f, df, 3)\n",
        "\n",
        "    print(r1)\n",
        "    print(r2)\n",
        "\n",
        "    print(converge(df, r1))\n",
        "    print(converge(df, r2))"
      ]
    },
    {
      "cell_type": "markdown",
      "source": [
        "### **Referencias**\n",
        "* <https://github.com/akorkos/Projects-in-Numerical-Analysis/blob/master/Project-1/Exercise-1/newton_raphson.py>"
      ],
      "metadata": {
        "id": "LHMml7aKTvG1"
      }
    }
  ]
}