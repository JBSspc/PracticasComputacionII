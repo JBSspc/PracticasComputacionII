{
  "nbformat": 4,
  "nbformat_minor": 0,
  "metadata": {
    "colab": {
      "name": "NumericalMethods_sPc.ipynb",
      "provenance": [],
      "collapsed_sections": [],
      "authorship_tag": "ABX9TyNRbbuit7j0Ikx0UobEO273",
      "include_colab_link": true
    },
    "kernelspec": {
      "name": "python3",
      "display_name": "Python 3"
    },
    "language_info": {
      "name": "python"
    }
  },
  "cells": [
    {
      "cell_type": "markdown",
      "metadata": {
        "id": "view-in-github",
        "colab_type": "text"
      },
      "source": [
        "<a href=\"https://colab.research.google.com/github/JBSspc/PracticasComputacionII/blob/main/%5CTareas%5CNumericalMethods_sPc.ipynb\" target=\"_parent\"><img src=\"https://colab.research.google.com/assets/colab-badge.svg\" alt=\"Open In Colab\"/></a>"
      ]
    },
    {
      "cell_type": "markdown",
      "source": [
        "## 1. Método gráfico\n",
        "* Evaluamos las ecuaciones <code>e1</code> y <code>e2</code> en el intervalo <code>a</code> < x < <code>b</code> (elejido por el usuario). La solución del sistema está en la intersección de ambas pendientes. "
      ],
      "metadata": {
        "id": "IjJ8ip9Pq84R"
      }
    },
    {
      "cell_type": "code",
      "execution_count": 6,
      "metadata": {
        "colab": {
          "base_uri": "https://localhost:8080/",
          "height": 317
        },
        "id": "7VVmzI64q4Ed",
        "outputId": "59c8c631-656a-4e84-bee4-cbd3a17dbc66"
      },
      "outputs": [
        {
          "output_type": "stream",
          "name": "stdout",
          "text": [
            "Start at: -8.5\n",
            "End at: -7\n",
            "Elapsed time for the graphing method is:  0.017455101013183594 s\n"
          ]
        },
        {
          "output_type": "display_data",
          "data": {
            "text/plain": [
              "<Figure size 432x288 with 1 Axes>"
            ],
            "image/png": "[encoded data removed]"
          },
          "metadata": {
            "needs_background": "light"
          }
        }
      ],
      "source": [
        "# import libraries\n",
        "import numpy as np\n",
        "import matplotlib.pyplot as plt\n",
        "from sympy.abc import x, y, z\n",
        "import time\n",
        "\n",
        "# We create our 'Graph' class\n",
        "# INPUT: [a,b] interval, \n",
        "class Graph:\n",
        "  def graph2DPlot(self, start, end, equation):\n",
        "    X = np.arange(start, end)\n",
        "    Y = np.zeros_like(X)\n",
        "    for i in range(len(X)):\n",
        "      Y[i] = equation.subs(x, X[i])\n",
        "    plt.plot(X,Y)\n",
        "\n",
        "def main():\n",
        "\n",
        "  # interval's definition (user's input)\n",
        "  a = float(input(\"Start at: \"))\n",
        "  b = float(input(\"End at: \"))\n",
        "\n",
        "  # 2 equations, 1 unkown variable\n",
        "  e1 = 2*x +- 3\n",
        "  e2 = 3*x + 5\n",
        "\n",
        "  # We create our object to graph\n",
        "  objG = Graph()\n",
        "\n",
        "  # Solve the set of eqns by 2D graphing method\n",
        "  start = time.time()\n",
        "  objG.graph2DPlot(a, b, e1)\n",
        "  objG.graph2DPlot(a, b, e2)\n",
        "  end = time.time()\n",
        "  elapsedGraph = end - start\n",
        "  print(\"Elapsed time for the graphing method is: \", elapsedGraph, \"s\")\n",
        "\n",
        "if __name__ == \"__main__\":\n",
        "  main()"
      ]
    },
    {
      "cell_type": "markdown",
      "source": [
        "## 2. Búsqueda incremental\n",
        "* No es un método como tal (no encuentra raíces), pero es conveniente cuando queremos aplicar algún método. \n",
        "* Se toma un extremo del intervalo y se evalúa la función de interés con pequeños incrementos a lo largo del intervalo.\n",
        "* El proceso se suspende cuando hay un cambio de signo y/o cuando se alcanza el máximo de iteraciones sin ecnontrar el cambio de signo."
      ],
      "metadata": {
        "id": "gN_PfeeF0NOp"
      }
    },
    {
      "cell_type": "code",
      "source": [
        "import time\n",
        "class Naive_Methods:\n",
        "  def incrementalSearch(self, a, b, tol, f):\n",
        "    X = np.linspace(a, b, 10000)\n",
        "\n",
        "    for i in range(len(X)):\n",
        "      if (abs(f.subs(x, X[i]))) <= tol:\n",
        "        print(\"Root could be at: \", X[i])\n",
        "\n",
        "def main():\n",
        "  tol = 0.0000000001\n",
        "  f = x**2 - 50*x - 25\n",
        "\n",
        "  objN = Naive_Methods()\n",
        "\n",
        "  start = time.time()\n",
        "  objN.incrementalSearch(-100, 100, tol, f)\n",
        "  end = time.time()\n",
        "  elapsedN = end - start\n",
        "  \n",
        "  print(\"Elapsed time for incremental search is: \", (elapsedN), \" s\")\n",
        "\n",
        "if __name__ == \"__main__\":\n",
        "  main()\n"
      ],
      "metadata": {
        "colab": {
          "base_uri": "https://localhost:8080/"
        },
        "id": "e1FjSA7n3Zzv",
        "outputId": "93d59c3d-5f49-43a0-f037-31d802d1cba3"
      },
      "execution_count": null,
      "outputs": [
        {
          "output_type": "stream",
          "name": "stdout",
          "text": [
            "El tiempo de ejecución de la búsqueda incremental fue:  8.466934442520142  s\n"
          ]
        }
      ]
    },
    {
      "cell_type": "markdown",
      "source": [
        "## 3. Bisección\n",
        "* Verificamos que hay un cambio de signo: si sí, es probable que haya una raíz\n",
        "* Se realiza hasta alcanzar el número máximo de iteraciones\n"
      ],
      "metadata": {
        "id": "i09rkTnRAJ-h"
      }
    },
    {
      "cell_type": "code",
      "source": [
        "import numpy as np\n",
        "import math\n",
        "from sympy.abc import x,y\n",
        "import time\n",
        "import sys\n",
        "\n",
        "class NumMethods:\n",
        "  def bisect(self, l, u, tol, maxIter, f):\n",
        "    fl = f.subs(x, l) # f @ lower guess\n",
        "    fu = f.subs(x, u) # f @ upper guess \n",
        "\n",
        "    if (fl * fu) < 0:\n",
        "      print(\"Sign switch!\")\n",
        "    else:\n",
        "      sys.exit(\"Ups! No real roots in the interval\")\n",
        "    es = np.inf # error\n",
        "    iter = 0 # desired percent relative error\n",
        "\n",
        "    while iter < maxIter: # maxIter is define @ main\n",
        "      r = (l + u) / 2 # root\n",
        "      fr = f.subs(x, r) # f(r)\n",
        "      if (abs(fr) <= tol) or (abs(l-u) <= tol):\n",
        "        return r\n",
        "      \n",
        "      fl = f.subs(x, l) # f(l) := f @ lowest guess\n",
        "      fu = f.subs(x, u) # f(u) := f @ upper guess\n",
        "\n",
        "      if fl*fr < 0:\n",
        "        u = r\n",
        "      else:\n",
        "        l = r\n",
        "\n",
        "      iter +=1\n",
        "    \n",
        "    print(\"Maximum number of iterations reached.\\n The approximated root is x = \", r)\n",
        "    return r\n",
        "\n",
        "def main():\n",
        "  maxIter = 900000\n",
        "  tol = 0.0000000001\n",
        "  f = x**2 - 101*x - 19800\n",
        "\n",
        "  objNM = NumMethods()\n",
        "  start = time.time() # start recording elpased time \n",
        "  root = objNM.bisect(-100, 100, tol, maxIter, f)\n",
        "  end = time.time() # end recordig elapsed time\n",
        "  elapsedBisect = end - start\n",
        "  print(\"Elapsed time for the bisection method: \", elapsedBisect, \" s\")\n",
        "\n",
        "  if (root != np.inf):\n",
        "    print(\"The real root is: \", float(root))\n",
        "  else:\n",
        "    print(\"No root :(\")\n",
        "\n",
        "if __name__ == \"__main__\":\n",
        "  main()\n"
      ],
      "metadata": {
        "id": "daU91QiMATSm",
        "colab": {
          "base_uri": "https://localhost:8080/"
        },
        "outputId": "52b9b7f9-9466-4ea5-921d-8f81a4eb618c"
      },
      "execution_count": 12,
      "outputs": [
        {
          "output_type": "stream",
          "name": "stdout",
          "text": [
            "Sign switch!\n",
            "Elapsed time for the bisection method:  0.03850865364074707  s\n",
            "The real root is:  -99.00000000002365\n"
          ]
        }
      ]
    },
    {
      "cell_type": "markdown",
      "source": [
        "## 4. Newton-Raphson"
      ],
      "metadata": {
        "id": "SquNdnlMATpA"
      }
    },
    {
      "cell_type": "code",
      "source": [
        "import numpy as np\n",
        "import time\n",
        "\n",
        "class NumMethods:\n",
        "  def NewtonRaphson(self, f, x, tol, maxIter ):\n",
        "    for i in range(maxIter):\n",
        "      c = x - f[0](x)/f[1](x) # x - f(x)/ f'(x)\n",
        "      if abs(c-x) < tol: break # if the difference of new 'x' minus actual x < tol, stop\n",
        "      x = c # new 'x' value is asigned to actual x\n",
        "    return c, i\n",
        "\n",
        "def main():\n",
        "  maxIter = 900000\n",
        "  tol = 0.0000000001\n",
        "  \n",
        "  f = [lambda x: 2*x**3 - 9.5*x + 7.5, lambda x: 6*x**2 - 9.5] # we make a list of functions \n",
        "  # f[0] = f(x) = 2*x**3 - 9.5*x + 7.5\n",
        "  # f[1] = f'(x) = 6*x**2 - 9.5\n",
        "\n",
        "  objNM = NumMethods() # Object of 'NumMethds' class\n",
        "  start = time.time() # start recording elpased time \n",
        "  x,n = objNM.NewtonRaphson(f,5, tol, maxIter) # Call the function\n",
        "  end = time.time() # end recordig elapsed time\n",
        "  elapsedNR = end - start\n",
        "  print(\"Elapsed time for the Newton - Raphson method: \", elapsedNR, \" s\")\n",
        "\n",
        "  if (x != np.inf):\n",
        "    print(\"The root is %f at %d iterations :D\" % (x,n))\n",
        "  else:\n",
        "    print(\"No root :(\")\n",
        "\n",
        "if __name__ == \"__main__\":\n",
        "  main()"
      ],
      "metadata": {
        "id": "BAkCGJLVAh8s",
        "colab": {
          "base_uri": "https://localhost:8080/"
        },
        "outputId": "e7af9a20-cb0a-4ccd-a5d5-2aec41c0277b"
      },
      "execution_count": 8,
      "outputs": [
        {
          "output_type": "stream",
          "name": "stdout",
          "text": [
            "Elapsed time for the Newton - Raphson method:  2.6941299438476562e-05  s\n",
            "The root is 1.500000 at 9 iterations :D\n"
          ]
        }
      ]
    }
  ]
}