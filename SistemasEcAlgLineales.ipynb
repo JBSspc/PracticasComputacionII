{
  "nbformat": 4,
  "nbformat_minor": 0,
  "metadata": {
    "colab": {
      "name": "SistemasEcAlgLineales.ipynb",
      "provenance": [],
      "collapsed_sections": [],
      "authorship_tag": "ABX9TyOvvk4WtWj2hsC7Jv7w8Abf",
      "include_colab_link": true
    },
    "kernelspec": {
      "name": "python3",
      "display_name": "Python 3"
    },
    "language_info": {
      "name": "python"
    }
  },
  "cells": [
    {
      "cell_type": "markdown",
      "metadata": {
        "id": "view-in-github",
        "colab_type": "text"
      },
      "source": [
        "<a href=\"https://colab.research.google.com/github/JBSspc/PracticasComputacionII/blob/main/SistemasEcAlgLineales.ipynb\" target=\"_parent\"><img src=\"https://colab.research.google.com/assets/colab-badge.svg\" alt=\"Open In Colab\"/></a>"
      ]
    },
    {
      "cell_type": "markdown",
      "source": [
        "# **Computación II**\n",
        "UNAM - ENES J</br>\n",
        "*Sofía Palacios Cuevas*"
      ],
      "metadata": {
        "id": "qZfsu4NncpsG"
      }
    },
    {
      "cell_type": "markdown",
      "source": [
        "## **Sistemas de Ecuaciones Algebráicas Lineales (SEAL)**\n",
        "* Eliminación Gaussiana (eG)\n",
        "* Eliminación de Gauss-Jordan (eGJ)\n",
        "* Determinantes a partir de eG (DeG)\n",
        "* Matriz Inverza (I)\n",
        "* Regla de Crammer (Cr)"
      ],
      "metadata": {
        "id": "Kt3pFa7Tc66N"
      }
    },
    {
      "cell_type": "markdown",
      "source": [
        "### **Antes de empezar...**\n",
        "* Llenar la matriz\n",
        "* Utilizaremos la matriz: </br>\n",
        "  <code>\n",
        "        [[ 1.  -3.  12.  10.],</br>\n",
        "         [ 5. -12.   2. -33.],</br>\n",
        "         [ 1. -14. 0. -103.]]\n",
        "  </code> </br>\n",
        "  propuesta por Chapra y Canale (1988), p. 277, ejercicio 8.13"
      ],
      "metadata": {
        "id": "ishkfBI5l_9k"
      }
    },
    {
      "cell_type": "code",
      "source": [
        "# Importamos la librería NumPy\n",
        "import numpy as np\n",
        "# Importamos sys para salir del programa cuando se divida entre 0\n",
        "import sys\n",
        "\n",
        "# Pedimos al usuario que ingrese el número de variables\n",
        "v = int(input('Número de ecuaciones: '))\n",
        "\n",
        "# Hacemos un arreglo (matriz) de v x v + 1\n",
        "# v + 1 --> # columnas = # variables + 1 (columna de solución)\n",
        "# La inicializamos en 0 con np.zeros\n",
        "z = np.zeros((v,v + 1))\n",
        "\n",
        "# Hacemos un arrglo para la solución\n",
        "# Tamaño: n x 1 (para que sea vector columna) #no salió :(\n",
        "# Lo inicializamos en 0\n",
        "x = np.zeros((v , 1))\n",
        "\n",
        "# Pedimos al usuario los coef. de la matriz aumentada\n",
        "print('\\nCoeficientes de la matriz aumentada: ')\n",
        "for i in range(v):\n",
        "  for j in range(v + 1):\n",
        "    z [i][j] = float(input('Valor elemento [' + str(i) +'][' + str(j) + ']: '))\n",
        "\n",
        "print('\\nMatriz Z:\\n', z, '\\n')"
      ],
      "metadata": {
        "colab": {
          "base_uri": "https://localhost:8080/"
        },
        "id": "7EalKsxOlY9k",
        "outputId": "817cb826-bc51-4cf3-e920-d1f670d5bbe2"
      },
      "execution_count": 36,
      "outputs": [
        {
          "output_type": "stream",
          "name": "stdout",
          "text": [
            "Número de ecuaciones: 3\n",
            "\n",
            "Coeficientes de la matriz aumentada: \n",
            "Valor elemento [0][0]: 1\n",
            "Valor elemento [0][1]: -3\n",
            "Valor elemento [0][2]: 12\n",
            "Valor elemento [0][3]: 10\n",
            "Valor elemento [1][0]: 5\n",
            "Valor elemento [1][1]: -12\n",
            "Valor elemento [1][2]: 2\n",
            "Valor elemento [1][3]: -33\n",
            "Valor elemento [2][0]: 1\n",
            "Valor elemento [2][1]: -14\n",
            "Valor elemento [2][2]: 0\n",
            "Valor elemento [2][3]: -103\n",
            "\n",
            "Matriz Z:\n",
            " [[   1.   -3.   12.   10.]\n",
            " [   5.  -12.    2.  -33.]\n",
            " [   1.  -14.    0. -103.]] \n",
            "\n"
          ]
        }
      ]
    },
    {
      "cell_type": "markdown",
      "source": [
        "### **Eliminación Gaussiana (eG)**\n",
        "1. Intercambiar filas (pivoteo parcial)\n",
        "2. Multiplicar los elementos de una fila por un escalar diferente de cero\n",
        "3. Restar el producto de una fila por un escalar a otra fila\n",
        "\n",
        "4. Dividir los la columna de resultados <code>z[i][v]</code> entre los elementos de la diagonal principal <code>A[i][i]</code>"
      ],
      "metadata": {
        "id": "Va4KsKYGdsdF"
      }
    },
    {
      "cell_type": "code",
      "execution_count": 21,
      "metadata": {
        "colab": {
          "base_uri": "https://localhost:8080/"
        },
        "id": "9C3cSWuyVSn5",
        "outputId": "8a07fe23-ee1b-4ca5-9a81-6d857a2b388c"
      },
      "outputs": [
        {
          "output_type": "stream",
          "name": "stdout",
          "text": [
            "Aplicando eG:\n",
            " [[ 1.00000000e+00  0.00000000e+00  0.00000000e+00  1.24480712e+01]\n",
            " [ 0.00000000e+00  3.00000000e+00  7.10542736e-15  2.47388724e+01]\n",
            " [ 0.00000000e+00  0.00000000e+00 -2.24666667e+02 -4.17333333e+02]]\n",
            "\n",
            "Solución: \n",
            "X0 = 12.448\tX1 = 8.246\tX2 = 1.858\t"
          ]
        }
      ],
      "source": [
        "# Método de Gauss \n",
        "for i in range(v):\n",
        "  if z[i][j] == 0.0:\n",
        "    sys.exit('Alto! Divides entre 0!')\n",
        "  for j in range(v):\n",
        "    if i != j:\n",
        "      r = z[j][i] / z[i][i] # pivote\n",
        "      for k in range(v + 1):\n",
        "        z[j][k] = z[j][k] - r * z[i][k]\n",
        "  # print(\"\\n\", z, \"\\n\")\n",
        "\n",
        "# Para la solución9\n",
        "for i in range (v): \n",
        "  x[i] = z[i][v] / z[i][i] # elemento de la columna de resultados / elemento\n",
        "                           # a[i][i] de la fila correspondiente\n",
        "\n",
        "print('Aplicando eG:\\n', z)\n",
        "\n",
        "# Mostrar la solución en consola\n",
        "print('\\nSolución: ')\n",
        "for i in range(v):\n",
        "  print('X%d = %0.3f' %(i, x[i]), end = '\\t')\n",
        "\n",
        "# %0.2f -> imprimir float con 2 espacios después del punto -> 0.00\n"
      ]
    },
    {
      "cell_type": "markdown",
      "source": [
        "### **Eliminación de Gauss-Jordan (eGJ)**\n",
        "* Eliminación Gaussiana (ceros debajo de la diagonal principal)\n",
        "* Eliminación de GJ (ceros arriba de la diagonal principal)"
      ],
      "metadata": {
        "id": "MR9_hwYbhihN"
      }
    },
    {
      "cell_type": "code",
      "source": [
        "# Gauss Jordan (ceros arriba de la diagonal principal)\n",
        "for i in range(v):\n",
        "  p = z[v-1-i][v-1-i]\n",
        "  z[v-1-i] = z[v-1-i]/p\n",
        "  for j in range(v-1-i):\n",
        "    z[j] = z[j] - z[j][v-1-i] * z[v-1-i] \n",
        "\n",
        "for i in range (v): \n",
        "  x[i] = z[i][v] / z[i][i]\n",
        "\n",
        "print('\\nAplicando eGJ:\\n', z)\n",
        "\n",
        "# Mostrar la solución en consola\n",
        "print('\\nSolución: ')\n",
        "for i in range(v):\n",
        "  print('X%d = %0.3f' %(i, x[i]), end = '\\t')\n",
        "\n"
      ],
      "metadata": {
        "colab": {
          "base_uri": "https://localhost:8080/"
        },
        "id": "RyV3d1q4h2xt",
        "outputId": "dddc44d2-d339-40ee-bc72-ea5fd21a808b"
      },
      "execution_count": 22,
      "outputs": [
        {
          "output_type": "stream",
          "name": "stdout",
          "text": [
            "\n",
            "Aplicando eGJ:\n",
            " [[ 1.          0.          0.         12.44807122]\n",
            " [ 0.          1.          0.          8.2462908 ]\n",
            " [-0.         -0.          1.          1.85756677]]\n",
            "\n",
            "Solución: \n",
            "X0 = 12.448\tX1 = 8.246\tX2 = 1.858\t"
          ]
        }
      ]
    },
    {
      "cell_type": "markdown",
      "source": [
        "### **Matriz Inversa (I)**\n",
        "* Quitamos la columna de resultados\n",
        "* Agregamos la matriz identidad\n",
        "* Aplicamos eGJ a ambas matrices de forma paralela\n",
        "* Hacemos producto punto entre la inversa de nuestra atriz original y la columna de resultados\n",
        "</br>\n",
        "\n",
        "Nota 0: Ejecutar después de llenar matriz y antes de eG y GJ. </br>\n",
        "Nota 1: Copiamos el algoritmo de eG y GJ sin la parte donde se imprime la solución (para evitar conflictos)"
      ],
      "metadata": {
        "id": "QPMYKFSxkHjU"
      }
    },
    {
      "cell_type": "code",
      "source": [
        "I = np.identity(v) # matriz identidad de dimensiones v x v\n",
        "zc = z[:]\n",
        "zc = np.delete(z, v, axis = 1)\n",
        "zI = np.concatenate([zc,I], axis = 1) # axis = 1 -> concatenar columnas\n",
        "print('\\nMatriz A e I concatenadas: \\n', zI)\n",
        "\n",
        "\n",
        "f = len(zI)\n",
        "s = 2 * len(zI) \n",
        "print('\\nfilas de zI: ', f, '\\ncolumnas de zI: ', s, '\\n')\n"
      ],
      "metadata": {
        "id": "ctfQooIQkixk",
        "colab": {
          "base_uri": "https://localhost:8080/"
        },
        "outputId": "8865169f-0a2f-4452-bf39-3ae361a4031e"
      },
      "execution_count": 37,
      "outputs": [
        {
          "output_type": "stream",
          "name": "stdout",
          "text": [
            "\n",
            "Matriz A e I concatenadas: \n",
            " [[  1.  -3.  12.   1.   0.   0.]\n",
            " [  5. -12.   2.   0.   1.   0.]\n",
            " [  1. -14.   0.   0.   0.   1.]]\n",
            "\n",
            "filas de zI:  3 \n",
            "columnas de zI:  6 \n",
            "\n"
          ]
        }
      ]
    },
    {
      "cell_type": "code",
      "source": [
        "f = len(zI)\n",
        "s = 2 * len(zI) \n",
        "print('\\nfilas de zI: ', f, '\\ncolumnas de zI: ', s, '\\n')\n",
        "\n",
        "# Gauss (ceros debajo de la diagonal principal)\n",
        "for i in range(f):\n",
        "  if zI[i][j] == 0.0:\n",
        "    sys.exit('Alto! Disión entre 0!')\n",
        "  for j in range (f):\n",
        "    if i != j:\n",
        "      r = zI[j][i] / zI[i][i]\n",
        "      for k in range(s):\n",
        "        zI[j][k] = zI[j][k] - r * zI[i][k]\n",
        "\n",
        "print('Aplicando eliminación Gaussiana (hacia abajo):\\n', zI)\n",
        "\n",
        "# Gauss Jordan (ceros arriba de la diagonal principal)\n",
        "for i in range(f):\n",
        "  p = zI[f-1-i][f-1-i]\n",
        "  zI[f-1-i] = zI[f-1-i]/p\n",
        "  for j in range(f-1-i):\n",
        "    zI[j] = zI[j] - zI[j][f-1-i] * zI[f-1-i] \n",
        "\n",
        "print('\\nAplicando GJ (hacia arriba):\\n', zI)\n",
        "\n",
        "I,AI = np.hsplit(zI,2)\n",
        "AdotAI = np.dot(zc,AI)\n",
        "\n",
        "for i in range (v):\n",
        "  b = z[i][v]\n",
        "  print(b)\n",
        "\n",
        "x = np.dot(AI,b)\n",
        "\n",
        "print(x)"
      ],
      "metadata": {
        "id": "U2iiWZsNlBLM",
        "colab": {
          "base_uri": "https://localhost:8080/"
        },
        "outputId": "883028a6-c665-4256-f117-53d971428785"
      },
      "execution_count": 38,
      "outputs": [
        {
          "output_type": "stream",
          "name": "stdout",
          "text": [
            "\n",
            "filas de zI:  3 \n",
            "columnas de zI:  6 \n",
            "\n",
            "Aplicando eliminación Gaussiana (hacia abajo):\n",
            " [[ 1.00000000e+00  0.00000000e+00  0.00000000e+00 -4.15430267e-02\n",
            "   2.49258160e-01 -2.04747774e-01]\n",
            " [ 0.00000000e+00  3.00000000e+00  7.10542736e-15 -8.90207715e-03\n",
            "   5.34124629e-02 -2.58160237e-01]\n",
            " [ 0.00000000e+00  0.00000000e+00 -2.24666667e+02 -1.93333333e+01\n",
            "   3.66666667e+00  1.00000000e+00]]\n",
            "\n",
            "Aplicando GJ (hacia arriba):\n",
            " [[ 1.          0.          0.         -0.04154303  0.24925816 -0.20474777]\n",
            " [ 0.          1.          0.         -0.00296736  0.01780415 -0.08605341]\n",
            " [-0.         -0.          1.          0.08605341 -0.01632047 -0.00445104]]\n",
            "10.0\n",
            "-33.0\n",
            "-103.0\n",
            "[[  4.27893175 -25.6735905   21.08902077]\n",
            " [  0.30563798  -1.83382789   8.86350148]\n",
            " [ -8.86350148   1.6810089    0.45845697]]\n"
          ]
        }
      ]
    },
    {
      "cell_type": "markdown",
      "source": [
        "### **Determinante (DeG)**\n",
        "Calcularemos el determinante de una matriz haciendo uso de la eleiminación Gaussiana.\n",
        "* Realizar eliminaión Gaussiana\n",
        "* Multiplicar los elementos de la diagonal principal </br>\n",
        "\n",
        "Ejecutar después de eG"
      ],
      "metadata": {
        "id": "wKEj4ZS0beHd"
      }
    },
    {
      "cell_type": "code",
      "source": [
        "product = 1.0\n",
        "for i in range(v):\n",
        "  product *= z[i][i]\n",
        "\n",
        "print(\"det(z): \", product)"
      ],
      "metadata": {
        "colab": {
          "base_uri": "https://localhost:8080/"
        },
        "id": "nbQNZOzabdrW",
        "outputId": "a2b55936-6b15-4505-ffdf-e75336d9dafd"
      },
      "execution_count": 9,
      "outputs": [
        {
          "output_type": "stream",
          "name": "stdout",
          "text": [
            "det(z):  -674.0\n"
          ]
        }
      ]
    },
    {
      "cell_type": "markdown",
      "source": [
        "Calulando el determinante de una matriz <code>3x3</code> sin utilizar eG.\n",
        "* Generar una matriz menor 2x2 de la matriz original de 3x3 (misma propuesta por Chapra y Canale)\n",
        "* Calcular el determinante de la matriz menor"
      ],
      "metadata": {
        "id": "DUP4D8-uKPK_"
      }
    },
    {
      "cell_type": "code",
      "source": [
        "import numpy as np\n",
        "\n",
        "def Det2x2(M):\n",
        "    det = -1\n",
        "    if(len(M) == 2 and len(M[0]) == 2):\n",
        "        det = (M[0][0] * M[1][1]) - (M[0][1]*M[1][0])\n",
        "    else:\n",
        "        print(\"Not a 2x2 matrix :(\")\n",
        "        exit(0)\n",
        "\n",
        "    return det\n",
        "\n",
        "def MenorMat(arr,i,j):\n",
        "    c = arr[:]\n",
        "    c = np.delete(c, (i),axis=0)\n",
        "    return [np.delete(row, (j),axis=0) for row in (c)]\n",
        "\n",
        "def Det3X3(z):\n",
        "    det = 0\n",
        "    if(len(z) == 3 and len(z[0]) == 3):\n",
        "        for i in range(len(z)):\n",
        "            a = z[0][i];\n",
        "            mMenor = MenorMat(z, 0, i)\n",
        "            #print(\"Matriz menor:\\n\", mMenor)\n",
        "            if i % 2 == 0: # module -> to know signs\n",
        "                det += a * Det2x2(mMenor) # Indice par --> (+)\n",
        "            else: # Indice impar --> (-)\n",
        "                det -= a* Det2x2(mMenor)\n",
        "    else:\n",
        "        print(\"La matriz no es de 3x3\")\n",
        "        exit(0)\n",
        "\n",
        "    return det\n",
        "\n",
        "def main():\n",
        "  # Generate a 3x3 matrix, get it's det\n",
        "  # M2 = np.random.randint(0, 10,(3,3))\n",
        "\n",
        "  v = 3\n",
        "\n",
        "  z = np.zeros((v,v))\n",
        "\n",
        "  # Pedimos al usuario los coef. de la matriz aumentada\n",
        "  print('\\nCoeficientes de la matriz aumentada: ')\n",
        "  for i in range(v):\n",
        "    for j in range(v):\n",
        "      z [i][j] = float(input('Valor elemento [' + str(i) +'][' + str(j) + ']: '))\n",
        "\n",
        "  print('\\nMatriz Z:\\n', z, '\\n')\n",
        "\n",
        "  print(\"Matriz 3x3\\n\", z)\n",
        "  \n",
        "  print(\"El determinante de la matriz \\n\", z, \" es:\", Det3X3(z))\n",
        "\n",
        "\n",
        "\n",
        "\n",
        "if __name__ == \"__main__\":\n",
        "    main()\n",
        "  "
      ],
      "metadata": {
        "colab": {
          "base_uri": "https://localhost:8080/"
        },
        "id": "1TTU2MD9H1DI",
        "outputId": "5d850903-a2b5-4113-b964-485d2d4aa659"
      },
      "execution_count": 2,
      "outputs": [
        {
          "output_type": "stream",
          "name": "stdout",
          "text": [
            "\n",
            "Coeficientes de la matriz aumentada: \n",
            "Valor elemento [0][0]: 1\n",
            "Valor elemento [0][1]: -3\n",
            "Valor elemento [0][2]: 12\n",
            "Valor elemento [1][0]: 5\n",
            "Valor elemento [1][1]: -12\n",
            "Valor elemento [1][2]: 2\n",
            "Valor elemento [2][0]: 1\n",
            "Valor elemento [2][1]: -14\n",
            "Valor elemento [2][2]: 0\n",
            "\n",
            "Matriz Z:\n",
            " [[  1.  -3.  12.]\n",
            " [  5. -12.   2.]\n",
            " [  1. -14.   0.]] \n",
            "\n",
            "Matriz 3x3\n",
            " [[  1.  -3.  12.]\n",
            " [  5. -12.   2.]\n",
            " [  1. -14.   0.]]\n",
            "El determinante de la matriz \n",
            " [[  1.  -3.  12.]\n",
            " [  5. -12.   2.]\n",
            " [  1. -14.   0.]]  es: -674.0\n"
          ]
        }
      ]
    },
    {
      "cell_type": "markdown",
      "source": [
        "### **Regla de Cramer (Cr)**\n",
        "* Obtener el determinante de la matriz, que será el det(Denominador)\n",
        "* Aislar la columna de resultados\n",
        "* Sustituir la columna de resultados en la columna de la incógnita actual\n",
        "* Encontral el determinante del numerador\n",
        "* Dividir det(Numerador) / det(Denominador)"
      ],
      "metadata": {
        "id": "ETdhFX6gleQf"
      }
    },
    {
      "cell_type": "code",
      "source": [
        "print('Columna de resultados: \\n')\n",
        "for i in range(len(z)):\n",
        "  b = np.zeros(len(z))\n",
        "  b = z[i][v]\n",
        "  print(b)\n",
        "\n",
        "print()\n",
        "\n",
        "\n",
        "\n",
        "\n"
      ],
      "metadata": {
        "colab": {
          "base_uri": "https://localhost:8080/"
        },
        "id": "LVYcEUAmmLC2",
        "outputId": "afe62a51-a6f2-416c-ecbe-0582c6fdec2b"
      },
      "execution_count": null,
      "outputs": [
        {
          "output_type": "stream",
          "name": "stdout",
          "text": [
            "Columna de resultados: \n",
            "\n",
            "50.0\n",
            "40.0\n",
            "\n"
          ]
        }
      ]
    },
    {
      "cell_type": "markdown",
      "source": [
        "### **Referencias**\n",
        "* <https://integratedmlai.com/find-the-determinant-of-a-matrix-with-pure-python-without-numpy-or-scipy/>\n"
      ],
      "metadata": {
        "id": "EHh4kFUhhTsM"
      }
    },
    {
      "cell_type": "markdown",
      "source": [
        "### ⛔ **Bloopers** ⛔ 🐛"
      ],
      "metadata": {
        "id": "xunY-Vu2K3rZ"
      }
    },
    {
      "cell_type": "code",
      "source": [
        "import numpy as np\n",
        "class Det:\n",
        "  def matrizCoef(self, z,v):\n",
        "    c = z[:]\n",
        "    c = np.delete(c, v, axis = 1)\n",
        "    print('Matriz de coeficientes: \\n', c, '\\n')\n",
        "\n",
        "  def det2x2(self, c):\n",
        "    det = 1\n",
        "    if (len(c)) == 2 and len(c[0] == 2):\n",
        "      det = (c[0][0] * c[1][1] - (c[0][1] * c[1][0]) )\n",
        "    else:\n",
        "      print('No es una matriz cuadrada :(')\n",
        "      exit(0)\n",
        "\n",
        "    return det\n",
        "\n",
        "  def matMenor(self, c, i, j):\n",
        "    m = c[:]\n",
        "    m = np.delete(m, (i), axis = 0)\n",
        "    return [np.delete(row, (j), axis = 0) for row in (c)]\n",
        "\n",
        "  def det3x3(self, c):\n",
        "    det = 0\n",
        "    \n",
        "    if(len(c) == 3 and len(c[0]) == 3):\n",
        "      for i in range(len(c)):\n",
        "        a = c[0][i]\n",
        "        mMenor = self.matMenor(c,0,i)\n",
        "        if i % 2 == 0:\n",
        "          det += a * self.det2x2(mMenor)\n",
        "        else:\n",
        "          det -= a * self.det2x2(mMenor)\n",
        "    else:\n",
        "      print('La matriz no tiene dimensiones de 3x3 :(')\n",
        "      exit(0)\n",
        "    return det\n",
        "\n",
        "def main():\n",
        "  import numpy as np\n",
        "  # Importamos sys para salir del programa cuando se divida entre 0\n",
        "  import sys\n",
        "\n",
        "  # Pedimos al usuario que ingrese el número de variables\n",
        "  v = int(input('Número de ecuaciones: '))\n",
        "\n",
        "  # Hacemos un arreglo (matriz) de v x v + 1\n",
        "  # v + 1 --> # columnas = # variables + 1 (columna de solución)\n",
        "  # La inicializamos en 0 con np.zeros\n",
        "  z = np.zeros((v,v + 1))\n",
        "\n",
        "  # Hacemos un arrglo para la solución\n",
        "  # Tamaño: n x 1 (para que sea vector columna) #no salió :(\n",
        "  # Lo inicializamos en 0\n",
        "  x = np.zeros((v , 1))\n",
        "\n",
        "  # Pedimos al usuario los coef. de la matriz aumentada\n",
        "  print('\\nCoeficientes de la matriz aumentada: ')\n",
        "  for i in range(v):\n",
        "    for j in range(v + 1):\n",
        "      z [i][j] = float(input('Valor elemento [' + str(i) +'][' + str(j) + ']: '))\n",
        "\n",
        "  print('\\nMatriz Z:\\n', z, '\\n')\n",
        "  c = z[:]\n",
        "  c = np.delete(c, v, axis = 1)\n",
        "  print('Matriz de coeficientes: \\n', c, '\\n')\n",
        "  \n",
        "  objD = Det()\n",
        "\n",
        "  objD.det3x3(c)\n",
        "\n",
        "if __name__ == \"__main__\":\n",
        "  main()\n"
      ],
      "metadata": {
        "colab": {
          "base_uri": "https://localhost:8080/"
        },
        "id": "tf-Ak-iKfHJo",
        "outputId": "dd8ec4bd-09c3-4f52-9f8c-50020bbde477"
      },
      "execution_count": 12,
      "outputs": [
        {
          "output_type": "stream",
          "name": "stdout",
          "text": [
            "Número de ecuaciones: 3\n",
            "\n",
            "Coeficientes de la matriz aumentada: \n",
            "Valor elemento [0][0]: 0\n",
            "Valor elemento [0][1]: 1\n",
            "Valor elemento [0][2]: 2\n",
            "Valor elemento [0][3]: 3\n",
            "Valor elemento [1][0]: 10\n",
            "Valor elemento [1][1]: 11\n",
            "Valor elemento [1][2]: 12\n",
            "Valor elemento [1][3]: 13\n",
            "Valor elemento [2][0]: 20\n",
            "Valor elemento [2][1]: 21\n",
            "Valor elemento [2][2]: 22\n",
            "Valor elemento [2][3]: 23\n",
            "\n",
            "Matriz Z:\n",
            " [[ 0.  1.  2.  3.]\n",
            " [10. 11. 12. 13.]\n",
            " [20. 21. 22. 23.]] \n",
            "\n",
            "Matriz de coeficientes: \n",
            " [[ 0.  1.  2.]\n",
            " [10. 11. 12.]\n",
            " [20. 21. 22.]] \n",
            "\n",
            "No es una matriz cuadrada :(\n",
            "No es una matriz cuadrada :(\n",
            "No es una matriz cuadrada :(\n"
          ]
        }
      ]
    }
  ]
}