{
  "nbformat": 4,
  "nbformat_minor": 0,
  "metadata": {
    "colab": {
      "name": "MatInvClases.ipynb",
      "provenance": [],
      "authorship_tag": "ABX9TyO5jeg2n23+N8PYyOPFkuXd",
      "include_colab_link": true
    },
    "kernelspec": {
      "name": "python3",
      "display_name": "Python 3"
    },
    "language_info": {
      "name": "python"
    }
  },
  "cells": [
    {
      "cell_type": "markdown",
      "metadata": {
        "id": "view-in-github",
        "colab_type": "text"
      },
      "source": [
        "<a href=\"https://colab.research.google.com/github/JBSspc/PracticasComputacionII/blob/main/MatInvClases.ipynb\" target=\"_parent\"><img src=\"https://colab.research.google.com/assets/colab-badge.svg\" alt=\"Open In Colab\"/></a>"
      ]
    },
    {
      "cell_type": "code",
      "source": [
        "import numpy as np\n",
        "import sys\n",
        "\n",
        "\n",
        "class GaussJordan():\n",
        "    def __init__(self, zI) -> None:\n",
        "        self.zI = zI\n",
        "        pass\n",
        "\n",
        "    def eGJ(self, f, s, zI):\n",
        "        f = len(zI)\n",
        "        s = 2 * len(zI)\n",
        "        for i in range(f):\n",
        "            if zI[i][j] == 0.0:\n",
        "                sys.exit('Stop! Dividing by 0!')\n",
        "            for j in range(f):\n",
        "                if i != j:\n",
        "                    r = zI[j][i]/zI[i][i]\n",
        "                    for k in range(s):\n",
        "                        zI[j][k] = zI[j][k] - r * zI[i][k]\n",
        "        \n",
        "        for i in range(f):\n",
        "            p = zI[f-1-i][f-1-i]\n",
        "            zI[f-1-i] = zI[f-1-i]/p\n",
        "            for j in range(f-1-i):\n",
        "                zI[j] = zI[j] - zI[j][f-1-i] * zI[f-1-i]\n",
        "\n",
        "        print(zI)\n",
        "        return zI\n",
        "    \n",
        "def inverse(zI, objGJ):\n",
        "    objGJ.eGJ\n",
        "        \n",
        "    I, AI = np.hsplit(zI, 2)\n",
        "    print(AI)\n",
        "    return I, AI\n",
        "\n",
        "\n",
        "def main():\n",
        "    \n",
        "    print('*=== Equations system solver ===*\\n')\n",
        "    print('\\n----- Values input -----\\n')\n",
        "    v = int(input('Number of equations: '))\n",
        "    z = np.zeros((v,v))\n",
        "       \n",
        "    print('\\nAugmented matrix coeficients:')\n",
        "    for i in range(v):\n",
        "        for j in range(v):\n",
        "            z[i][j] = float(input('Value of element [' + str(i) + '][' + str(j) + ']:'))\n",
        "    A = z\n",
        "    I = np.identity(v)\n",
        "    zI = np.concatenate([z,I], axis = 1)\n",
        "    objGJ = GaussJordan(zI)\n",
        "    I, AI = np.hsplit(zI, 2)\n",
        "    \n",
        "\n",
        "    Inv = inverse(zI, objGJ)\n",
        "\n",
        "    b = np.zeros((v, 1))\n",
        "    print('\\nSolutions of each equation:')\n",
        "    for i in range(v):\n",
        "        for j in range(1):\n",
        "            b[i][j] = float(input('Sol of eq [' + str(i) + '][' + str(j) + ']:'))\n",
        "    \n",
        "    x = np.dot(AI,b)\n",
        "\n",
        "    print(\"System's solution:\\n\", x)\n",
        "\n",
        "\n",
        "   \n",
        "\n",
        "   \n",
        "if __name__ == \"__main__\":\n",
        "    main()"
      ],
      "metadata": {
        "colab": {
          "base_uri": "https://localhost:8080/"
        },
        "id": "0oQxUIs3vOvC",
        "outputId": "31a1542a-87b0-4479-9625-2cd7c88a17b4"
      },
      "execution_count": 37,
      "outputs": [
        {
          "output_type": "stream",
          "name": "stdout",
          "text": [
            "*=== Equations system solver ===*\n",
            "\n",
            "\n",
            "----- Values input -----\n",
            "\n",
            "Number of equations: 2\n",
            "\n",
            "Augmented matrix coeficients:\n",
            "Value of element [0][0]:2\n",
            "Value of element [0][1]:3\n",
            "Value of element [1][0]:2\n",
            "Value of element [1][1]:2\n",
            "[[1. 0.]\n",
            " [0. 1.]]\n",
            "\n",
            "Solutions of each equation:\n",
            "Sol of eq [0][0]:50\n",
            "Sol of eq [1][0]:40\n",
            "System's solution:\n",
            " [[50.]\n",
            " [40.]]\n"
          ]
        }
      ]
    }
  ]
}