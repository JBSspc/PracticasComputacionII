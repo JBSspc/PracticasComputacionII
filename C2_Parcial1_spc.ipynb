{
  "nbformat": 4,
  "nbformat_minor": 0,
  "metadata": {
    "colab": {
      "name": "C2_Parcial1_spc.ipynb",
      "provenance": [],
      "collapsed_sections": [],
      "authorship_tag": "ABX9TyNm5AH3xEen6JTfS739kaCO",
      "include_colab_link": true
    },
    "kernelspec": {
      "name": "python3",
      "display_name": "Python 3"
    },
    "language_info": {
      "name": "python"
    }
  },
  "cells": [
    {
      "cell_type": "markdown",
      "metadata": {
        "id": "view-in-github",
        "colab_type": "text"
      },
      "source": [
        "<a href=\"https://colab.research.google.com/github/JBSspc/PracticasComputacionII/blob/main/C2_Parcial1_spc.ipynb\" target=\"_parent\"><img src=\"https://colab.research.google.com/assets/colab-badge.svg\" alt=\"Open In Colab\"/></a>"
      ]
    },
    {
      "cell_type": "markdown",
      "source": [
        "# **Computación II**\n",
        "Parcial 1 </br>\n",
        "*Sofía Palacios Cuevas* </br>\n",
        "MAR 28 2022"
      ],
      "metadata": {
        "id": "9e5S5O6swF5m"
      }
    },
    {
      "cell_type": "markdown",
      "source": [
        "a) Diseña un programa en python para encriptar un mensaje utilizando una matriz invertible de 3x3, calcular su inversa y desencriptar el mensaje"
      ],
      "metadata": {
        "id": "O9Ly79pPwU2y"
      }
    },
    {
      "cell_type": "markdown",
      "source": [
        "Pasos:\n",
        "* Llenar la matriz A\n",
        "* Obtener la inversa A^-1\n",
        "* Llenar la matriz M\n",
        "* Mutilplicar (A)(M) para obtener E\n",
        "* Multiplicar (A^-1)(E) para recuperar M\n"
      ],
      "metadata": {
        "id": "NMBL095Uw9V6"
      }
    },
    {
      "cell_type": "code",
      "execution_count": null,
      "metadata": {
        "colab": {
          "base_uri": "https://localhost:8080/"
        },
        "id": "iKnpYO4Xv7WT",
        "outputId": "d0af1828-1f4e-419f-b813-2be66ee802c6"
      },
      "outputs": [
        {
          "output_type": "stream",
          "name": "stdout",
          "text": [
            "\n",
            "----- Entrada de valores para A -----\n",
            "\n",
            "n: 3\n",
            "\n",
            "Coeficientes de la matriz aumentada: \n",
            "Valor del elemento [0][0]: -3\n",
            "Valor del elemento [0][1]: -3\n",
            "Valor del elemento [0][2]: -4\n",
            "Valor del elemento [1][0]: 0\n",
            "Valor del elemento [1][1]: 1\n",
            "Valor del elemento [1][2]: 1\n",
            "Valor del elemento [2][0]: 4\n",
            "Valor del elemento [2][1]: 3\n",
            "Valor del elemento [2][2]: 4\n",
            "[[-3. -3. -4.]\n",
            " [ 0.  1.  1.]\n",
            " [ 4.  3.  4.]]\n"
          ]
        }
      ],
      "source": [
        "# llenamos la matriz A\n",
        "import numpy as np\n",
        "import sys\n",
        "\n",
        "# llenar la matriz\n",
        "print('\\n----- Entrada de valores para A -----\\n')\n",
        "v = int(input('n: '))\n",
        "c = 2 * v\n",
        "z = np.zeros((v,v))\n",
        "\n",
        "print ('\\nCoeficientes de la matriz aumentada: ')\n",
        "for i in range(v):\n",
        "  for j in range(v):\n",
        "    z[i][j] = float(input('Valor del elemento [' + str(i) + '][' + str(j) + ']: '))\n",
        "A = z\n",
        "print(A)"
      ]
    },
    {
      "cell_type": "code",
      "source": [
        "# llenamos M\n",
        "# llenar la matriz\n",
        "print('\\n----- Entrada de valores para M -----\\n')\n",
        "vp = v # v' es igual a v (dimensión de 3x3)\n",
        "# c = 2 * vp\n",
        "zp = np.zeros((vp,vp)) #z' tiene las mismas dimensiones de z\n",
        "\n",
        "print ('\\nCoeficientes de la matriz aumentada: ')\n",
        "for i in range(vp):\n",
        "  for j in range(vp):\n",
        "    zp[i][j] = float(input('Valor del elemento [' + str(i) + '][' + str(j) + ']: '))\n",
        "M = zp\n",
        "print(M)\n",
        "\n",
        "# Hacemos la multiplicación entre matrices y la asignamos a E\n",
        "# E = (A)(M)\n",
        "\n",
        "E = np.dot(A,M)\n",
        "print('\\nEncriptado:\\n',E)"
      ],
      "metadata": {
        "colab": {
          "base_uri": "https://localhost:8080/"
        },
        "id": "OIy5PzRpzOt7",
        "outputId": "a35e313c-af69-4116-e771-9fea550c6cdc"
      },
      "execution_count": null,
      "outputs": [
        {
          "output_type": "stream",
          "name": "stdout",
          "text": [
            "\n",
            "----- Entrada de valores para M -----\n",
            "\n",
            "\n",
            "Coeficientes de la matriz aumentada: \n",
            "Valor del elemento [0][0]: 97\n",
            "Valor del elemento [0][1]: 116\n",
            "Valor del elemento [0][2]: 97\n",
            "Valor del elemento [1][0]: 99\n",
            "Valor del elemento [1][1]: 97\n",
            "Valor del elemento [1][2]: 48\n",
            "Valor del elemento [2][0]: 57\n",
            "Valor del elemento [2][1]: 51\n",
            "Valor del elemento [2][2]: 48\n",
            "[[ 97. 116.  97.]\n",
            " [ 99.  97.  48.]\n",
            " [ 57.  51.  48.]]\n",
            "\n",
            "Encriptado:\n",
            " [[-816. -843. -627.]\n",
            " [ 156.  148.   96.]\n",
            " [ 913.  959.  724.]]\n"
          ]
        }
      ]
    },
    {
      "cell_type": "code",
      "source": [
        "# obtenemos A^-1\n",
        "\n",
        "# concatenamos A e I\n",
        "I = np.identity(v)\n",
        "zI = np.concatenate([z, I], axis = 1) # axis = 1 -> concatenar columnas\n",
        "print('\\nMatriz A e I concatenadas: \\n', zI)\n",
        "\n",
        "# redimensionamos \n",
        "f = len(zI)\n",
        "s = 2 * len(zI) \n",
        "print('\\nfilas de zI: ', f, '\\ncolumnas de zI: ', s, '\\n')\n",
        "\n",
        "# Aplicamos Gauss-Jordan a la matriz concatenada\n",
        "# Gauss (ceros debajo de la diagonal principal)\n",
        "for i in range(f):\n",
        "  if zI[i][j] == 0.0:\n",
        "    sys.exit('Alto! Disión entre 0!')\n",
        "  for j in range (f):\n",
        "    if i != j:\n",
        "      r = zI[j][i] / zI[i][i]\n",
        "      for k in range(s):\n",
        "        zI[j][k] = zI[j][k] - r * zI[i][k]\n",
        "\n",
        "print('Aplicando eliminación Gaussiana (hacia abajo):\\n', zI)\n",
        "\n",
        "# Gauss Jordan (ceros arriba de la diagonal principal)\n",
        "for i in range(f):\n",
        "  p = zI[f-1-i][f-1-i]\n",
        "  zI[f-1-i] = zI[f-1-i]/p\n",
        "  for j in range(f-1-i):\n",
        "    zI[j] = zI[j] - zI[j][f-1-i] * zI[f-1-i] \n",
        "\n",
        "print('\\nAplicando GJ (hacia arriba):\\n', zI)\n",
        "\n",
        "# Separamos ambas matrices\n",
        "# La matriz de la derecha será A^-1\n",
        "I,AI = np.hsplit(zI,2)\n",
        "\n",
        "# Corroboramos que se invirtió A correctamente\n",
        "# Sí funcionó, por lo que comentaremos las siguientes líneas\n",
        "# AdotAI = np.dot(A,AI)\n",
        "\n",
        "# print('Matriz A:\\n', A)\n",
        "print('\\nMatriz invertida A^-1:\\n', AI)\n",
        "# print('\\nProducto AA^-1:\\n', AdotAI)"
      ],
      "metadata": {
        "colab": {
          "base_uri": "https://localhost:8080/"
        },
        "id": "GD5ZOw00xwlg",
        "outputId": "2b61e508-7087-44d7-e39e-cb7a1298860b"
      },
      "execution_count": null,
      "outputs": [
        {
          "output_type": "stream",
          "name": "stdout",
          "text": [
            "\n",
            "Matriz A e I concatenadas: \n",
            " [[-3. -3. -4.  1.  0.  0.]\n",
            " [ 0.  1.  1.  0.  1.  0.]\n",
            " [ 4.  3.  4.  0.  0.  1.]]\n",
            "\n",
            "filas de zI:  3 \n",
            "columnas de zI:  6 \n",
            "\n",
            "Aplicando eliminación Gaussiana (hacia abajo):\n",
            " [[-3.00000000e+00  0.00000000e+00  0.00000000e+00 -3.00000000e+00\n",
            "  -2.66453526e-15 -3.00000000e+00]\n",
            " [ 0.00000000e+00  1.00000000e+00  0.00000000e+00  4.00000000e+00\n",
            "   4.00000000e+00  3.00000000e+00]\n",
            " [ 0.00000000e+00  0.00000000e+00 -3.33333333e-01  1.33333333e+00\n",
            "   1.00000000e+00  1.00000000e+00]]\n",
            "\n",
            "Aplicando GJ (hacia arriba):\n",
            " [[ 1.0000000e+00 -0.0000000e+00 -0.0000000e+00  1.0000000e+00\n",
            "   8.8817842e-16  1.0000000e+00]\n",
            " [ 0.0000000e+00  1.0000000e+00  0.0000000e+00  4.0000000e+00\n",
            "   4.0000000e+00  3.0000000e+00]\n",
            " [-0.0000000e+00 -0.0000000e+00  1.0000000e+00 -4.0000000e+00\n",
            "  -3.0000000e+00 -3.0000000e+00]]\n",
            "\n",
            "Matriz invertida A^-1:\n",
            " [[ 1.0000000e+00  8.8817842e-16  1.0000000e+00]\n",
            " [ 4.0000000e+00  4.0000000e+00  3.0000000e+00]\n",
            " [-4.0000000e+00 -3.0000000e+00 -3.0000000e+00]]\n"
          ]
        }
      ]
    },
    {
      "cell_type": "code",
      "source": [
        "# Desencriptamos\n",
        "D = np.dot(AI,E)\n",
        "\n",
        "# Corroboramos que todo sea correcto\n",
        "\n",
        "print('\\nMensaje: \\n', M, '\\n')\n",
        "print('\\nEcriptado: \\n', E, '\\n')\n",
        "print('\\nDesencriptado: \\n', D, '\\n')"
      ],
      "metadata": {
        "colab": {
          "base_uri": "https://localhost:8080/"
        },
        "id": "zxelbpYmz5W1",
        "outputId": "9ad449c5-0c24-4f4c-c7e8-766a83bc204d"
      },
      "execution_count": null,
      "outputs": [
        {
          "output_type": "stream",
          "name": "stdout",
          "text": [
            "\n",
            "Mensaje: \n",
            " [[ 97. 116.  97.]\n",
            " [ 99.  97.  48.]\n",
            " [ 57.  51.  48.]] \n",
            "\n",
            "\n",
            "Ecriptado: \n",
            " [[-816. -843. -627.]\n",
            " [ 156.  148.   96.]\n",
            " [ 913.  959.  724.]] \n",
            "\n",
            "\n",
            "Desencriptado: \n",
            " [[ 97. 116.  97.]\n",
            " [ 99.  97.  48.]\n",
            " [ 57.  51.  48.]] \n",
            "\n"
          ]
        }
      ]
    },
    {
      "cell_type": "markdown",
      "source": [
        "b) Se deberá utilizar el método de supreferencia para aproximar con una tolerancia de 0.000001 todas las raíces reales del siguiente polinomio </br>\n",
        "x^4 - 4x^3 -2x^2 +12x - 5"
      ],
      "metadata": {
        "id": "T2VnMnly3F22"
      }
    },
    {
      "cell_type": "code",
      "source": [
        "class NumMethods:\n",
        "  def NewtonRaphsonUpperGrade(self, f, x, tol, maxIter ):\n",
        "    for i in range(maxIter):\n",
        "      c = x - ((f[0](x))*(f[1](x)))/(((f[1](x))**2)*(f[2](x))) # x - [f(x)f'(x)]/[(f'(x))^2 f''(x])\n",
        "      if abs(c-x) < tol: break # altoo\n",
        "      x = c # vamos 'rotando' el valor\n",
        "    return c, i\n",
        "\n",
        "def main():\n",
        "  maxIter = 900000\n",
        "  tol = 0.000001\n",
        "  # f[0] = x**4 - 4*x**3 - 2*x**2 + 12*x - 5\n",
        "  # f[1] = 4*x**3 - 12*x**2 - 4*x +12\n",
        "  # f[2] = 12*x**2 - 24*x -4\n",
        "   # hacemos una lista de funciones derivadas\n",
        "  f = [lambda x: x**4 - 4*x**3 - 2*x**2 + 12*x - 5, lambda x: 4*x**3 - 12*x**2 - 4*x +12, lambda x: 12*x**2 - 24*x -4 ]\n",
        "\n",
        "  objN = NumMethods() # Objeto 'objN' de NumMethods\n",
        "  x0,n0 = objN.NewtonRaphsonUpperGrade(f,5, tol, maxIter) # Aplicamos la función\n",
        "  \n",
        "  # Raíz 1\n",
        "  if (x0 != np.inf): # que no sea oo\n",
        "    print('X0 = %f alcanzada en %d iteraciones :D' % (x0,n0))    \n",
        "  else:\n",
        "    print('No hay raíz :(')\n",
        "  \n",
        "  # Raíz 2\n",
        "  x1,n1 = objN.NewtonRaphsonUpperGrade(f,2, tol, maxIter) # Aplicamos la función\n",
        "  if (x1 != np.inf):\n",
        "    print('X1 = %f alcanzada en %d iteraciones :D' % (x1,n1))\n",
        "  else:\n",
        "    print('No hay raíz :(')\n",
        "\n",
        "  # Raíz 3\n",
        "  x2,n2 = objN.NewtonRaphsonUpperGrade(f,0, tol, maxIter) # Aplicamos la función\n",
        "  if (x2 != np.inf):\n",
        "    print('X2 = %f alcanzada en %d iteraciones :D' % (x2,n2))    \n",
        "  else:\n",
        "    print('No hay raíz :(')\n",
        "  \n",
        "  # Raíz 4\n",
        "  x3,n3 = objN.NewtonRaphsonUpperGrade(f,-2, tol, maxIter) # Aplicamos la función\n",
        "  if (x3 != np.inf):\n",
        "    print('X3 = %f alcanzada en %d iteraciones :D' % (x3,n3))\n",
        "  else:\n",
        "    print('No hay raíz :(')\n",
        "\n",
        "if __name__ == \"__main__\":\n",
        "  main()"
      ],
      "metadata": {
        "colab": {
          "base_uri": "https://localhost:8080/"
        },
        "id": "VbR6aCdzASM0",
        "outputId": "1b9db664-70fd-4217-9149-0e7a51ac1483"
      },
      "execution_count": null,
      "outputs": [
        {
          "output_type": "stream",
          "name": "stdout",
          "text": [
            "X0 = 3.782459 alcanzada en 944 iteraciones :D\n",
            "X1 = -1.782459 alcanzada en 1666 iteraciones :D\n",
            "X2 = -1.782459 alcanzada en 896 iteraciones :D\n",
            "X3 = -1.782459 alcanzada en 639 iteraciones :D\n"
          ]
        }
      ]
    },
    {
      "cell_type": "code",
      "source": [
        "from numpy.lib.polynomial import roots\n",
        "import sympy \n",
        "c = [1, -4, -2, 12, -5]\n",
        "npRoots = np.roots(c)\n",
        "print('Raíces según Numpy:\\n', npRoots)\n"
      ],
      "metadata": {
        "colab": {
          "base_uri": "https://localhost:8080/"
        },
        "id": "wKAgMgAg8pC2",
        "outputId": "4aee6363-ee4e-4140-b149-9365004dc99f"
      },
      "execution_count": null,
      "outputs": [
        {
          "output_type": "stream",
          "name": "stdout",
          "text": [
            "Raíces según Numpy:\n",
            " [ 3.7823834  -1.7823834   1.50827415  0.49172585]\n"
          ]
        }
      ]
    }
  ]
}