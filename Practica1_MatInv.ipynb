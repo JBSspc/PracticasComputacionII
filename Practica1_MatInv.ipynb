{
  "nbformat": 4,
  "nbformat_minor": 0,
  "metadata": {
    "colab": {
      "name": "Practica1_MatInv.ipynb",
      "provenance": [],
      "collapsed_sections": [],
      "authorship_tag": "ABX9TyMOa6iUL13iAHts9ZpTVrmN",
      "include_colab_link": true
    },
    "kernelspec": {
      "name": "python3",
      "display_name": "Python 3"
    },
    "language_info": {
      "name": "python"
    }
  },
  "cells": [
    {
      "cell_type": "markdown",
      "metadata": {
        "id": "view-in-github",
        "colab_type": "text"
      },
      "source": [
        "<a href=\"https://colab.research.google.com/github/JBSspc/PracticasComputacionII/blob/main/Practica1_MatInv.ipynb\" target=\"_parent\"><img src=\"https://colab.research.google.com/assets/colab-badge.svg\" alt=\"Open In Colab\"/></a>"
      ]
    },
    {
      "cell_type": "code",
      "execution_count": 55,
      "metadata": {
        "colab": {
          "base_uri": "https://localhost:8080/"
        },
        "id": "s1pP2uCxeP_Q",
        "outputId": "786288f1-3816-493e-98d5-b43e07ee41a1"
      },
      "outputs": [
        {
          "output_type": "stream",
          "name": "stdout",
          "text": [
            "Número de ecuaciones: 2\n",
            "Número de ecuaciones: 2\n",
            "\n",
            "Coeficientes de la matriz aumentada: \n",
            "Valor elemento [0][0]: 2\n",
            "Valor elemento [0][1]: 3\n",
            "Valor elemento [0][2]: 50\n",
            "Valor elemento [1][0]: 2\n",
            "Valor elemento [1][1]: 2\n",
            "Valor elemento [1][2]: 40\n",
            "\n",
            " [[  2.   3.  50.]\n",
            " [  0.  -1. -10.]] \n",
            "\n",
            "\n",
            " [[  2.   0.  20.]\n",
            " [  0.  -1. -10.]] \n",
            "\n",
            "\n",
            "Solución: \n",
            "\n",
            "X0 = 10.00\tX1 = 10.00\t\n",
            " [[0. 0. 0. 1. 0.]\n",
            " [0. 0. 0. 0. 1.]]\n",
            "\n",
            "Matriz Inversa: \n",
            "\n",
            "[1. 0.]\n",
            "[0. 1.]\n"
          ]
        }
      ],
      "source": [
        "import numpy as np\n",
        "import sys\n",
        "\n",
        "class GaussJordan:\n",
        "  # Método de Gauss Jordan\n",
        "  def GJ(self, v, c, z):\n",
        "    v = int(input('Número de ecuaciones: '))\n",
        "    c = v + 1\n",
        "    z = np.zeros((v, v + 1))\n",
        "    x = np.zeros((v, 1))\n",
        "\n",
        "    print('\\nCoeficientes de la matriz aumentada: ')\n",
        "    for i in range(v):\n",
        "      for j in range(v + 1):\n",
        "        z [i][j] = float(input('Valor elemento [' + str(i) +'][' + str(j) + ']: '))\n",
        "\n",
        "    for i in range(v):\n",
        "      if z[i][j] == 0.0:\n",
        "        sys.exit('Alto! Divides entre 0!')\n",
        "      for j in range(v):\n",
        "        if i != j:\n",
        "          r = z[j][i] / z[i][i]\n",
        "          for k in range(v + 1):\n",
        "            z[j][k] = z[j][k] - r * z[i][k]\n",
        "      print(\"\\n\", z, \"\\n\")\n",
        "\n",
        "   # Para la solución\n",
        "    for i in range (v):\n",
        "      x[i] = z[i][v] / z[i][i]\n",
        "\n",
        "    # Mostrar la solución en consola\n",
        "    print('\\nSolución: \\n')\n",
        "    for i in range(v):\n",
        "      print('X%d = %0.2f' %(i, x[i]), end = '\\t')\n",
        "    return z\n",
        "\n",
        "def calcMatxInv(v, c, z, objG):\n",
        "  I = np.identity(v) # Matriz identidad usando numpy\n",
        "\n",
        "  c = c + v # Ahora tenemos más columnas por agregar la matriz I\n",
        "  augM = np.concatenate([z, I], axis = 1)\n",
        "  objG.GJ(v,c, augM)\n",
        "  print(\"\\n\", augM)\n",
        "  print(\"\\nMatriz Inversa: \\n\")  \n",
        "  zInv = np.zeros_like(I)\n",
        "  for i in range(v):\n",
        "    zInv[i] = augM[i][c - v: c]\n",
        "    print(augM[i][c - v: c])\n",
        "  return zInv\n",
        "    \n",
        "\n",
        "def main():\n",
        "\n",
        "  v = int(input('Número de ecuaciones: '))\n",
        "  c = v + 1\n",
        "  z = np.zeros((v, v + 1))\n",
        "  I = np.identity(v)\n",
        "   \n",
        "  #POO\n",
        "  objG = GaussJordan()\n",
        "  calcMatxInv(v, c, z, objG)\n",
        "  \n",
        "\n",
        "\n",
        "\n",
        "\n",
        "\n",
        "if __name__ == \"__main__\":\n",
        "  main()\n"
      ]
    }
  ]
}