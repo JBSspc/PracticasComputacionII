{
  "nbformat": 4,
  "nbformat_minor": 0,
  "metadata": {
    "colab": {
      "name": "NumericalMethods.ipynb",
      "provenance": [],
      "collapsed_sections": [],
      "authorship_tag": "ABX9TyMz7niOXyEpsbq5hvUerqQh",
      "include_colab_link": true
    },
    "kernelspec": {
      "name": "python3",
      "display_name": "Python 3"
    },
    "language_info": {
      "name": "python"
    }
  },
  "cells": [
    {
      "cell_type": "markdown",
      "metadata": {
        "id": "view-in-github",
        "colab_type": "text"
      },
      "source": [
        "<a href=\"https://colab.research.google.com/github/JBSspc/PracticasComputacionII/blob/main/NumericalMethods.ipynb\" target=\"_parent\"><img src=\"https://colab.research.google.com/assets/colab-badge.svg\" alt=\"Open In Colab\"/></a>"
      ]
    },
    {
      "cell_type": "markdown",
      "source": [
        "Methods"
      ],
      "metadata": {
        "id": "bMn8tCF-uh5E"
      }
    },
    {
      "cell_type": "markdown",
      "source": [
        "## Bracketing methos\n",
        "* Bisection (chapra MN, p. 151)"
      ],
      "metadata": {
        "id": "2YafjTEDujnB"
      }
    },
    {
      "cell_type": "code",
      "execution_count": null,
      "metadata": {
        "id": "YTjD37-Kufya"
      },
      "outputs": [],
      "source": [
        "import numpy as np\n",
        "import math\n",
        "from sympy import *\n",
        "from sympy.abc import x,y\n",
        "import time\n",
        "import matplotlib.pyplot as plt\n",
        "import sys\n",
        "\n",
        "es = 0  # Terminate computation when ea < es\n",
        "\n",
        "def Bisection(xl, xu, es, imax, xr, iter, ea):\n",
        "  fxl = func.subs(x,l) # f @ lower guess\n",
        "  fxu = func.subs(x,u) # f @ upper guess\n",
        "\n",
        "  xr = (xl + x2) / 2 # determines an estimate for the root x\n",
        "  test = fxl * fxu \n",
        "\n",
        "  if xr != 0:\n",
        "    ea = abs((xr - xrold) / xr) * 100  # approximate percent relatice error\n",
        "    if test < 0:\n",
        "      print('Sign switch!')\n",
        "    else:\n",
        "      sys.exit('Ups! No real roots in the interval')\n",
        "    es = np.inf\n",
        "    iter = 0 # desired percent relative error\n",
        "\n",
        "    while iter < maxIter: # maxIter se define en main\n",
        "      xr = (xl + xu) / 2\n",
        "      fxr = func.subs(x,r)\n",
        "      if (abs(fc) <= tolerance) or (abs(l-u) <= tolerance): #revisar, 'c' o 'xr'\n",
        "        return xr\n",
        "\n",
        "      fxl = func.subs(x,l)\n",
        "      fxu = fun.subs(x,u)\n",
        "      test2 = fxl * fxr\n",
        "\n",
        "      if test2 < 0:\n",
        "        xu = xr\n",
        "      else if test2 > 0:\n",
        "        xl = xr\n",
        "      else:\n",
        "        ea = 0\n",
        "      if ea < es and iter >= maxIter:\n",
        "        sys.exit('Computation terminated because ea < es & iter >= maxIter')\n",
        "\n",
        "      iter += 1\n",
        "\n",
        "    print('Maximun number of iterations achieved!\\n Process ended with root approximation x =', r) \n",
        "  \n",
        "  # from syms abc.import x y --> revisar\n",
        "  def BrentDekker(self, a, b, f, tol, maxIter):\n",
        "    fa = f.subs(x,a)\n",
        "    fb = f.subs(x,b)\n",
        "    c = 0\n",
        "\n",
        "    if fa * fb < 0:\n",
        "      c = (a + b ) / 2\n",
        "      fc = f. subs(x,c)\n",
        "      if fc == 0:\n",
        "        print(\"La raíz de la función se encuentra en x: \", c)\n",
        "      \n",
        "      if fa * fc < 0: \n",
        "        a = a # puede omitirse\n",
        "        b = c\n",
        "      elif fb * fc < 0:\n",
        "        a = c\n",
        "        b = b\n",
        "      # termina método bisección\n",
        "\n",
        "      inter = (((y - fb)*(y - fc))/((fa-fb)(fa-fc))) * a + (((y-fa)(y-fc))/((fb-fa)(fb-fc))) * b + (((y-fa)(y-fb))/((fc-fa)(fc-fb))) * c\n",
        "      \n",
        "\n",
        "\n",
        "\n",
        "            "
      ]
    },
    {
      "cell_type": "markdown",
      "source": [
        "### Referencias\n",
        "* Chapra, C., Canale, R. (2015). *Numerical Methods for Engineers*. 7a. ed.\n",
        "* mechtutor com. *Newton-Raphson Method | Numerical Computing in Python*. Recuperado de: <https://www.youtube.com/watch?v=szQUIRPrAgQ>\n"
      ],
      "metadata": {
        "id": "5X8tz_Zr_tXm"
      }
    }
  ]
}